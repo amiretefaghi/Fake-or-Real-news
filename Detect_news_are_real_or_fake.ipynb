{
  "nbformat": 4,
  "nbformat_minor": 0,
  "metadata": {
    "colab": {
      "name": "Detect news are real or fake.ipynb",
      "provenance": []
    },
    "kernelspec": {
      "name": "python3",
      "display_name": "Python 3"
    }
  },
  "cells": [
    {
      "cell_type": "code",
      "metadata": {
        "id": "2i1iA5XyNODE"
      },
      "source": [
        "import numpy as np\r\n",
        "import pandas as pd\r\n",
        "import itertools\r\n",
        "import seaborn as sns\r\n",
        "import matplotlib.pyplot as plt\r\n",
        "from sklearn.model_selection import train_test_split\r\n",
        "from sklearn.feature_extraction.text import TfidfVectorizer\r\n",
        "from sklearn.linear_model import PassiveAggressiveClassifier\r\n",
        "from sklearn import svm\r\n",
        "from sklearn.linear_model import LogisticRegression\r\n",
        "from sklearn.metrics import accuracy_score, confusion_matrix"
      ],
      "execution_count": 29,
      "outputs": []
    },
    {
      "cell_type": "code",
      "metadata": {
        "colab": {
          "base_uri": "https://localhost:8080/",
          "height": 204
        },
        "id": "YeYecj6bNQwq",
        "outputId": "058c6100-8628-42ed-fbd2-14a7a7aa7281"
      },
      "source": [
        "#Read the data\r\n",
        "df=pd.read_csv('/content/news.csv')\r\n",
        "#Get labels\r\n",
        "labels=df.label\r\n",
        "\r\n",
        "df.head()"
      ],
      "execution_count": 15,
      "outputs": [
        {
          "output_type": "execute_result",
          "data": {
            "text/html": [
              "<div>\n",
              "<style scoped>\n",
              "    .dataframe tbody tr th:only-of-type {\n",
              "        vertical-align: middle;\n",
              "    }\n",
              "\n",
              "    .dataframe tbody tr th {\n",
              "        vertical-align: top;\n",
              "    }\n",
              "\n",
              "    .dataframe thead th {\n",
              "        text-align: right;\n",
              "    }\n",
              "</style>\n",
              "<table border=\"1\" class=\"dataframe\">\n",
              "  <thead>\n",
              "    <tr style=\"text-align: right;\">\n",
              "      <th></th>\n",
              "      <th>Unnamed: 0</th>\n",
              "      <th>title</th>\n",
              "      <th>text</th>\n",
              "      <th>label</th>\n",
              "    </tr>\n",
              "  </thead>\n",
              "  <tbody>\n",
              "    <tr>\n",
              "      <th>0</th>\n",
              "      <td>8476</td>\n",
              "      <td>You Can Smell Hillary’s Fear</td>\n",
              "      <td>Daniel Greenfield, a Shillman Journalism Fello...</td>\n",
              "      <td>FAKE</td>\n",
              "    </tr>\n",
              "    <tr>\n",
              "      <th>1</th>\n",
              "      <td>10294</td>\n",
              "      <td>Watch The Exact Moment Paul Ryan Committed Pol...</td>\n",
              "      <td>Google Pinterest Digg Linkedin Reddit Stumbleu...</td>\n",
              "      <td>FAKE</td>\n",
              "    </tr>\n",
              "    <tr>\n",
              "      <th>2</th>\n",
              "      <td>3608</td>\n",
              "      <td>Kerry to go to Paris in gesture of sympathy</td>\n",
              "      <td>U.S. Secretary of State John F. Kerry said Mon...</td>\n",
              "      <td>REAL</td>\n",
              "    </tr>\n",
              "    <tr>\n",
              "      <th>3</th>\n",
              "      <td>10142</td>\n",
              "      <td>Bernie supporters on Twitter erupt in anger ag...</td>\n",
              "      <td>— Kaydee King (@KaydeeKing) November 9, 2016 T...</td>\n",
              "      <td>FAKE</td>\n",
              "    </tr>\n",
              "    <tr>\n",
              "      <th>4</th>\n",
              "      <td>875</td>\n",
              "      <td>The Battle of New York: Why This Primary Matters</td>\n",
              "      <td>It's primary day in New York and front-runners...</td>\n",
              "      <td>REAL</td>\n",
              "    </tr>\n",
              "  </tbody>\n",
              "</table>\n",
              "</div>"
            ],
            "text/plain": [
              "   Unnamed: 0  ... label\n",
              "0        8476  ...  FAKE\n",
              "1       10294  ...  FAKE\n",
              "2        3608  ...  REAL\n",
              "3       10142  ...  FAKE\n",
              "4         875  ...  REAL\n",
              "\n",
              "[5 rows x 4 columns]"
            ]
          },
          "metadata": {
            "tags": []
          },
          "execution_count": 15
        }
      ]
    },
    {
      "cell_type": "code",
      "metadata": {
        "id": "QJMrf7Y2Or09"
      },
      "source": [
        "#Split the dataset\r\n",
        "x_train,x_test,y_train,y_test=train_test_split(df['text'], labels, test_size=0.2, random_state=7)"
      ],
      "execution_count": 16,
      "outputs": []
    },
    {
      "cell_type": "code",
      "metadata": {
        "id": "iO_MVNoqPMlG"
      },
      "source": [
        "#Initialize a TfidfVectorizer\r\n",
        "tfidf_vectorizer=TfidfVectorizer(stop_words='english', max_df=0.7)\r\n",
        "\r\n",
        "#Fit and transform train set, transform test set\r\n",
        "tfidf_train=tfidf_vectorizer.fit_transform(x_train) \r\n",
        "tfidf_test=tfidf_vectorizer.transform(x_test)"
      ],
      "execution_count": 17,
      "outputs": []
    },
    {
      "cell_type": "markdown",
      "metadata": {
        "id": "WdgHTHdfVLZY"
      },
      "source": [
        "#Passive Aggressive Classifier"
      ]
    },
    {
      "cell_type": "code",
      "metadata": {
        "colab": {
          "base_uri": "https://localhost:8080/"
        },
        "id": "zg64BAL1PYyt",
        "outputId": "04fd12dd-d69b-47ed-9c2f-2ef3f09a6b25"
      },
      "source": [
        "#Initialize a PassiveAggressiveClassifier\r\n",
        "model=PassiveAggressiveClassifier(max_iter=50)\r\n",
        "model.fit(tfidf_train,y_train)\r\n",
        "\r\n",
        "#Predict on the test set and calculate accuracy\r\n",
        "y_pred=model.predict(tfidf_test)\r\n",
        "score=accuracy_score(y_test,y_pred)\r\n",
        "print(f'Accuracy: {round(score*100,2)}%')"
      ],
      "execution_count": 18,
      "outputs": [
        {
          "output_type": "stream",
          "text": [
            "Accuracy: 92.74%\n"
          ],
          "name": "stdout"
        }
      ]
    },
    {
      "cell_type": "code",
      "metadata": {
        "colab": {
          "base_uri": "https://localhost:8080/",
          "height": 311
        },
        "id": "zuc6QN4vPZ4H",
        "outputId": "ffafe497-234c-49da-be45-237bfc61f95d"
      },
      "source": [
        "class_names = ['FAKE','REAL']\r\n",
        "#Build confusion matrix\r\n",
        "matrix = confusion_matrix(y_test,y_pred)\r\n",
        "# Create pandas dataframe\r\n",
        "dataframe = pd.DataFrame(matrix, index=class_names, columns=class_names)\r\n",
        "# Create heatmap\r\n",
        "sns.heatmap(dataframe, annot=True, cbar=None, cmap=\"Blues\", fmt = 'g')\r\n",
        "plt.title(\"Confusion Matrix\"), plt.tight_layout()\r\n",
        "plt.ylabel(\"True Class\"), plt.xlabel(\"Predicted Class\")\r\n",
        "plt.show()"
      ],
      "execution_count": 19,
      "outputs": [
        {
          "output_type": "display_data",
          "data": {
            "image/png": "[encoded data removed]",
            "text/plain": [
              "<Figure size 432x288 with 1 Axes>"
            ]
          },
          "metadata": {
            "tags": [],
            "needs_background": "light"
          }
        }
      ]
    },
    {
      "cell_type": "markdown",
      "metadata": {
        "id": "2FstPb2fVVsg"
      },
      "source": [
        "# Support Vector Machine ( SVM )"
      ]
    },
    {
      "cell_type": "code",
      "metadata": {
        "colab": {
          "base_uri": "https://localhost:8080/"
        },
        "id": "1LF1gEmrPdbQ",
        "outputId": "3ff02656-1bce-4324-d79a-b3b92d9b7e17"
      },
      "source": [
        "#Initialize a PassiveAggressiveClassifier\r\n",
        "model = svm.SVC(max_iter=10000)\r\n",
        "model.fit(tfidf_train,y_train)\r\n",
        "\r\n",
        "#Predict on the test set and calculate accuracy\r\n",
        "y_pred=model.predict(tfidf_test)\r\n",
        "score=accuracy_score(y_test,y_pred)\r\n",
        "print(f'Accuracy: {round(score*100,2)}%')"
      ],
      "execution_count": 27,
      "outputs": [
        {
          "output_type": "stream",
          "text": [
            "Accuracy: 92.9%\n"
          ],
          "name": "stdout"
        }
      ]
    },
    {
      "cell_type": "code",
      "metadata": {
        "colab": {
          "base_uri": "https://localhost:8080/",
          "height": 311
        },
        "id": "yHtE94onS0tK",
        "outputId": "ea6672bd-fcf3-4a49-8233-717a7bcb7e39"
      },
      "source": [
        "class_names = ['FAKE','REAL']\r\n",
        "#Build confusion matrix\r\n",
        "matrix = confusion_matrix(y_test,y_pred)\r\n",
        "# Create pandas dataframe\r\n",
        "dataframe = pd.DataFrame(matrix, index=class_names, columns=class_names)\r\n",
        "# Create heatmap\r\n",
        "sns.heatmap(dataframe, annot=True, cbar=None, cmap=\"Blues\", fmt = 'g')\r\n",
        "plt.title(\"Confusion Matrix\"), plt.tight_layout()\r\n",
        "plt.ylabel(\"True Class\"), plt.xlabel(\"Predicted Class\")\r\n",
        "plt.show()"
      ],
      "execution_count": 28,
      "outputs": [
        {
          "output_type": "display_data",
          "data": {
            "image/png": "[encoded data removed]",
            "text/plain": [
              "<Figure size 432x288 with 1 Axes>"
            ]
          },
          "metadata": {
            "tags": [],
            "needs_background": "light"
          }
        }
      ]
    },
    {
      "cell_type": "markdown",
      "metadata": {
        "id": "z7PIM-NpVdnT"
      },
      "source": [
        "# Logistic Regression"
      ]
    },
    {
      "cell_type": "code",
      "metadata": {
        "colab": {
          "base_uri": "https://localhost:8080/"
        },
        "id": "UvILPY79USvH",
        "outputId": "2e6f198d-68a5-40a4-ce7f-60c024dac0ff"
      },
      "source": [
        "#Initialize a PassiveAggressiveClassifier\r\n",
        "model = LogisticRegression()\r\n",
        "model.fit(tfidf_train,y_train)\r\n",
        "\r\n",
        "#Predict on the test set and calculate accuracy\r\n",
        "y_pred=model.predict(tfidf_test)\r\n",
        "score=accuracy_score(y_test,y_pred)\r\n",
        "print(f'Accuracy: {round(score*100,2)}%')"
      ],
      "execution_count": 30,
      "outputs": [
        {
          "output_type": "stream",
          "text": [
            "Accuracy: 91.71%\n"
          ],
          "name": "stdout"
        }
      ]
    },
    {
      "cell_type": "code",
      "metadata": {
        "colab": {
          "base_uri": "https://localhost:8080/",
          "height": 311
        },
        "id": "8VTPH-NeVCYb",
        "outputId": "b04ec0ba-59e1-43af-ac87-f61c0fa96b5a"
      },
      "source": [
        "class_names = ['FAKE','REAL']\r\n",
        "#Build confusion matrix\r\n",
        "matrix = confusion_matrix(y_test,y_pred)\r\n",
        "# Create pandas dataframe\r\n",
        "dataframe = pd.DataFrame(matrix, index=class_names, columns=class_names)\r\n",
        "# Create heatmap\r\n",
        "sns.heatmap(dataframe, annot=True, cbar=None, cmap=\"Blues\", fmt = 'g')\r\n",
        "plt.title(\"Confusion Matrix\"), plt.tight_layout()\r\n",
        "plt.ylabel(\"True Class\"), plt.xlabel(\"Predicted Class\")\r\n",
        "plt.show()"
      ],
      "execution_count": 31,
      "outputs": [
        {
          "output_type": "display_data",
          "data": {
            "image/png": "[encoded data removed]",
            "text/plain": [
              "<Figure size 432x288 with 1 Axes>"
            ]
          },
          "metadata": {
            "tags": [],
            "needs_background": "light"
          }
        }
      ]
    },
    {
      "cell_type": "code",
      "metadata": {
        "id": "0sV3gOcUVElO"
      },
      "source": [
        ""
      ],
      "execution_count": null,
      "outputs": []
    }
  ]
}